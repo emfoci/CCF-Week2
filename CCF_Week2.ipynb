{
  "nbformat": 4,
  "nbformat_minor": 0,
  "metadata": {
    "colab": {
      "name": "CCF-Week2.ipynb",
      "provenance": [],
      "authorship_tag": "ABX9TyP1Xyshbcvr1lNTYnzUDdQJ",
      "include_colab_link": true
    },
    "kernelspec": {
      "name": "python3",
      "display_name": "Python 3"
    },
    "language_info": {
      "name": "python"
    }
  },
  "cells": [
    {
      "cell_type": "markdown",
      "metadata": {
        "id": "view-in-github",
        "colab_type": "text"
      },
      "source": [
        "<a href=\"https://colab.research.google.com/github/emfoci/CCF-Week2/blob/main/CCF_Week2.ipynb\" target=\"_parent\"><img src=\"https://colab.research.google.com/assets/colab-badge.svg\" alt=\"Open In Colab\"/></a>"
      ]
    },
    {
      "cell_type": "markdown",
      "metadata": {
        "id": "uis_9FFDyiSC"
      },
      "source": [
        "## Section 1"
      ]
    },
    {
      "cell_type": "code",
      "metadata": {
        "colab": {
          "base_uri": "https://localhost:8080/"
        },
        "id": "83jM_CDYyN2B",
        "outputId": "57c7d90e-7fa1-4324-ee65-1d2e98d959e1"
      },
      "source": [
        "def hello():\n",
        "  print(\"howdy\")\n",
        "\n",
        "hello()"
      ],
      "execution_count": 2,
      "outputs": [
        {
          "output_type": "stream",
          "name": "stdout",
          "text": [
            "howdy\n"
          ]
        }
      ]
    }
  ]
}